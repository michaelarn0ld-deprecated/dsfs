{
 "cells": [
  {
   "cell_type": "code",
   "execution_count": 13,
   "id": "d150959a",
   "metadata": {},
   "outputs": [
    {
     "data": {
      "image/png": "[encoded data removed]",
      "text/plain": [
       "<Figure size 432x288 with 1 Axes>"
      ]
     },
     "metadata": {
      "needs_background": "light"
     },
     "output_type": "display_data"
    }
   ],
   "source": [
    "# chapter five --> statistics\n",
    "import random\n",
    "from collections import Counter\n",
    "import matplotlib.pyplot as plt\n",
    "from typing import List\n",
    "\n",
    "# this list will serve as the \"number of friends\" per user that we can perform stats on\n",
    "num_friends = [random.randint(1,100) for _ in range(1000)]\n",
    "\n",
    "\n",
    "# generate a bar chart that represents the number of people that have \"x\" # of friends\n",
    "friend_counts = Counter(num_friends)\n",
    "xs = range(max(num_friends))\n",
    "ys = [friend_counts[x] for x in xs]\n",
    "plt.bar(xs,ys)\n",
    "plt.xlabel(\"# of friends\")\n",
    "plt.ylabel(\"# of people\")\n",
    "plt.show()\n"
   ]
  },
  {
   "cell_type": "code",
   "execution_count": 12,
   "id": "2e2f477f",
   "metadata": {},
   "outputs": [
    {
     "name": "stdout",
     "output_type": "stream",
     "text": [
      "mean number of friends: 50.064\n",
      "median number of friends: 49.0\n"
     ]
    }
   ],
   "source": [
    "# central tendancies\n",
    "# ------------------\n",
    "\n",
    "# write a f(x) to get the mean of the number of friends\n",
    "def mean(xs:List[float]) -> float:\n",
    "    return sum(xs)/len(xs)\n",
    "\n",
    "assert mean([1,2,3]) == 2\n",
    "\n",
    "\n",
    "# write a f(x) to get the median of the number of friends\n",
    "# if the # of elements is odd, then median == List[len(List) // 2]\n",
    "# if the # of elements is even, the median == List[len(List) // 2 - 1] + List[len(List) // 2] / 2\n",
    "def median(xs:List[float]) -> float:\n",
    "    num_items = len(xs)\n",
    "    is_even = True if num_items % 2 == 0 else False\n",
    "    sorted_xs = sorted(xs)\n",
    "    return sorted_xs[num_items // 2] if not is_even else mean([sorted_xs[num_items // 2 - 1],sorted_xs[num_items // 2]])\n",
    "\n",
    "assert median([2,1,5,3,4]) == 3\n",
    "assert median([3,2,1,4,5,6]) == 3.5\n",
    "assert median([1,9,2,10]) == (2 + 9) / 2\n",
    "\n",
    "print(f\"mean number of friends: {mean(num_friends)}\")\n",
    "print(f\"median number of friends: {median(num_friends)}\")"
   ]
  },
  {
   "cell_type": "code",
   "execution_count": 11,
   "id": "9443269e",
   "metadata": {},
   "outputs": [
    {
     "name": "stdout",
     "output_type": "stream",
     "text": [
      "10% of users have <= 9 friends\n",
      "25% of users have <= 25 friends\n",
      "75% of users have <= 76 friends\n",
      "90% of users have <= 91 friends\n"
     ]
    }
   ],
   "source": [
    "# outliers can be damaging to the integrity of the mean of our dataset\n",
    "#  write a f(x) that returns the pth-percentile in a list of values xs (quantile)\n",
    "\n",
    "def quantile(xs: List[float], p: float) -> float:\n",
    "    p_index = int(p * len(xs))\n",
    "    return sorted(xs)[p_index]\n",
    "\n",
    "print(f\"10% of users have <= {quantile(num_friends, 0.10)} friends\")\n",
    "print(f\"25% of users have <= {quantile(num_friends, 0.25)} friends\")\n",
    "print(f\"75% of users have <= {quantile(num_friends, 0.75)} friends\")\n",
    "print(f\"90% of users have <= {quantile(num_friends, 0.90)} friends\")"
   ]
  },
  {
   "cell_type": "code",
   "execution_count": 10,
   "id": "897e880d",
   "metadata": {},
   "outputs": [
    {
     "name": "stdout",
     "output_type": "stream",
     "text": [
      "[9]\n"
     ]
    }
   ],
   "source": [
    "#  sometimes you may also want to look at the mode (most common) value of the dataset\n",
    "#  write a f(x) to accomplish this\n",
    "\n",
    "def mode(xs: List[float]) -> List[float]:\n",
    "    # if the number 7 occurs 3 times, the data from counter looks like {..., 7: 3}\n",
    "    counts = Counter(xs)\n",
    "    \n",
    "    # we want to return the value that has the most counts in max_occurences\n",
    "    max_occurences = max(counts.values())\n",
    "    \n",
    "    # sometimes, there may be more than a single mode if 2+ values both occur the max # of times     \n",
    "    return [x for x, count in counts.items() if count == max_occurences]\n",
    "    \n",
    "assert mode([1,1,1,3,3,3,2,2]) == [1,3]\n",
    "print(mode(num_friends))"
   ]
  },
  {
   "cell_type": "code",
   "execution_count": 9,
   "id": "bca4822a",
   "metadata": {},
   "outputs": [
    {
     "name": "stdout",
     "output_type": "stream",
     "text": [
      "99\n"
     ]
    }
   ],
   "source": [
    "# dispersion refers to how spread out our data is\n",
    "#  values close to 0 --> data is not spread\n",
    "#  large values --> data is very spread out\n",
    "#  write a function to return the range of a dataset\n",
    "\n",
    "def data_range(xs: List[float]) -> float:\n",
    "    return max(xs) - min(xs)\n",
    "\n",
    "assert data_range([1,5,2,3,9,12,4,2]) == 11\n",
    "print(data_range(num_friends))"
   ]
  },
  {
   "cell_type": "code",
   "execution_count": 26,
   "id": "8c77fa58",
   "metadata": {},
   "outputs": [
    {
     "name": "stdout",
     "output_type": "stream",
     "text": [
      "843.7902662662666\n"
     ]
    }
   ],
   "source": [
    "# a better way to get an idea of the dispersion of a dataset is to take a look at the variance\n",
    "from ipynb.fs.full.chapter_four import sum_of_squares\n",
    "\n",
    "def de_mean(xs: List[float]) -> List[float]:\n",
    "    \"\"\"Translate xs by subtracting its mean so the result has mean 0\"\"\"\n",
    "    x_bar = mean(xs)\n",
    "    return [x - x_bar for x in xs]\n",
    "\n",
    "def variance(xs:List[float]) -> float:\n",
    "    \"\"\"Almost the average squared deviation from the mean\"\"\"\n",
    "    assert len(xs) >= 2, \"variance requires at least two elements\"\n",
    "    \n",
    "    n = len(xs)\n",
    "    deviations = de_mean(xs)\n",
    "    return sum_of_squares(deviations) / (n - 1)\n",
    "    \n",
    "print(variance(num_friends))  # units of the return will be friends^2"
   ]
  },
  {
   "cell_type": "code",
   "execution_count": 43,
   "id": "d0bd223c",
   "metadata": {},
   "outputs": [
    {
     "name": "stdout",
     "output_type": "stream",
     "text": [
      "29.048068201969414\n"
     ]
    }
   ],
   "source": [
    "# the units of variance are slightly non-intuitive, instead we look at standard deviation\n",
    "import math\n",
    "\n",
    "def standard_deviation(xs: List[float]) -> float:\n",
    "    return math.sqrt(variance(xs))\n",
    "\n",
    "print(standard_deviation(num_friends))"
   ]
  },
  {
   "cell_type": "code",
   "execution_count": 39,
   "id": "d84e155d",
   "metadata": {},
   "outputs": [
    {
     "name": "stdout",
     "output_type": "stream",
     "text": [
      "51\n"
     ]
    }
   ],
   "source": [
    "# the issue with range and stdev is that they are affected heavily by outlier data\n",
    "# a more robust solution is to use the IQR betwewn 75th and 25th percentile\n",
    "def interquartile(xs:List[float]) -> float:\n",
    "    return quantile(xs, 0.75) - quantile(xs, 0.25)\n",
    "\n",
    "assert interquartile([1,2,3,4,5,6,7,8,9,10]) == 5\n",
    "print(interquartile(num_friends))\n",
    "\n"
   ]
  },
  {
   "cell_type": "code",
   "execution_count": 53,
   "id": "e2e03622",
   "metadata": {},
   "outputs": [],
   "source": [
    "# covariance and correlation\n",
    "from ipynb.fs.full.chapter_four import dot\n",
    "\n",
    "\n",
    "# covariance measures how two variables vary in tandem from their means\n",
    "def covariance(xs: List[float], ys: List[float]) -> float:\n",
    "    assert len(xs) == len(ys) # both lists must be same size to compare\n",
    "    return dot(de_mean(xs), de_mean(ys)) / (len(xs) - 1) \n",
    "\n",
    "def correlation(xs: List[float], ys: List[float]) -> float:\n",
    "    \"\"\"result must be between -1 and 1\n",
    "    -1 being perfect anticorrelation\n",
    "    +1 being perfect correlation\"\"\"\n",
    "    stdev_x = standard_deviation(xs)\n",
    "    stdev_y = standard_deviation(ys)\n",
    "    \n",
    "    if stdev_x > 0 and stdev_y > 0:\n",
    "        return covariance(xs,ys) / stdev_x / stdev_y\n",
    "    else:\n",
    "        return 0    # if there is no variation, then the correlation is 0"
   ]
  },
  {
   "cell_type": "code",
   "execution_count": null,
   "id": "909d0c62",
   "metadata": {},
   "outputs": [],
   "source": []
  }
 ],
 "metadata": {
  "kernelspec": {
   "display_name": "Python [conda env:dsfs] *",
   "language": "python",
   "name": "conda-env-dsfs-py"
  },
  "language_info": {
   "codemirror_mode": {
    "name": "ipython",
    "version": 3
   },
   "file_extension": ".py",
   "mimetype": "text/x-python",
   "name": "python",
   "nbconvert_exporter": "python",
   "pygments_lexer": "ipython3",
   "version": "3.6.13"
  }
 },
 "nbformat": 4,
 "nbformat_minor": 5
}
